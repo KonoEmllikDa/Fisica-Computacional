{
  "cells": [
    {
      "cell_type": "code",
      "execution_count": 2,
      "metadata": {
        "trusted": true
      },
      "outputs": [],
      "source": [
        "import numpy as np\n",
        "import matplotlib.pyplot as plt\n",
        "import matplotlib.animation as animation\n",
        "from gaussxw import gaussxw\n"
      ]
    },
    {
      "cell_type": "markdown",
      "metadata": {},
      "source": [
        "# Folha 2"
      ]
    },
    {
      "cell_type": "markdown",
      "metadata": {},
      "source": [
        "Ex. 6"
      ]
    },
    {
      "cell_type": "code",
      "execution_count": null,
      "metadata": {
        "editable": true,
        "slideshow": {
          "slide_type": ""
        },
        "tags": [],
        "trusted": true
      },
      "outputs": [],
      "source": [
        "def LogisticMap(r,x,N):\n",
        "    R = np.zeros((N))+r\n",
        "    X = np.zeros((N))+x\n",
        "    for i in range(N-1):\n",
        "        X[i+1] = X[i]*r*(1-X[i])\n",
        "    return R,X"
      ]
    },
    {
      "cell_type": "code",
      "execution_count": null,
      "metadata": {
        "editable": true,
        "slideshow": {
          "slide_type": ""
        },
        "tags": [],
        "trusted": true
      },
      "outputs": [],
      "source": [
        "fig = plt.figure(figsize=(6,8))\n",
        "ax1 = fig.add_subplot(211)\n",
        "ax2 = fig.add_subplot(212)\n",
        "N = 1000\n",
        "Rf = np.zeros((301,N))\n",
        "Xf = np.zeros((301,N))\n",
        "for i in range(100,401):\n",
        "    R, X = LogisticMap(i/100,0.5,N)\n",
        "    Rf[i-100,:], Xf[i-100,:] = R, X\n",
        "    ax1.plot(R,X)\n",
        "for i in range(500,N):\n",
        "    ax2.plot(Rf[:,i],Xf[:,i])\n",
        "plt.show()\n"
      ]
    },
    {
      "cell_type": "markdown",
      "metadata": {},
      "source": [
        "Ex. 7"
      ]
    },
    {
      "cell_type": "code",
      "execution_count": null,
      "metadata": {
        "editable": true,
        "slideshow": {
          "slide_type": ""
        },
        "tags": [],
        "trusted": true
      },
      "outputs": [],
      "source": [
        "def MandelbrotSet(N=1000,I=100):\n",
        "    Re= np.linspace(-2,2,N)\n",
        "    Plane = np.add.outer(Re,Re*1j)\n",
        "    Z = np.zeros((N,N),dtype = np.clongdouble)\n",
        "    Colors = np.zeros((N,N),int)\n",
        "    for i in range(I):\n",
        "        Z = Z**2+Plane\n",
        "        Colors += np.array((abs(Z)>2),bool) + np.array((np.isnan(Z)))\n",
        "    Colors = np.log(Colors+1)\n",
        "    X, Y = np.meshgrid(Re,Re)\n",
        "\n",
        "    plt.pcolormesh(X,Y,Colors,vmin = 0, vmax = np.log(I+1),cmap='hot')\n",
        "    plt.show()"
      ]
    },
    {
      "cell_type": "code",
      "execution_count": null,
      "metadata": {
        "editable": true,
        "slideshow": {
          "slide_type": ""
        },
        "tags": [],
        "trusted": true
      },
      "outputs": [],
      "source": [
        "MandelbrotSet()"
      ]
    },
    {
      "cell_type": "markdown",
      "metadata": {
        "trusted": true
      },
      "source": [
        "# Folha 4"
      ]
    },
    {
      "cell_type": "markdown",
      "metadata": {
        "trusted": true
      },
      "source": [
        "Ex. 2"
      ]
    },
    {
      "cell_type": "code",
      "execution_count": null,
      "metadata": {
        "trusted": true
      },
      "outputs": [],
      "source": [
        "def SimpsonsRule(f,a,b,N):\n",
        "    t, h = np.linspace(a,b,N, retstep=1)\n",
        "    t0 = t[:-1]\n",
        "    tf = t[1:]\n",
        "    tm = (t0+tf)/2\n",
        "\n",
        "    return np.sum((h*(f(t0)+4*f(tm)+f(tf)))/6, axis=0)\n",
        "\n",
        "\n",
        "def TrapezoidalRule(f,a,b,N):\n",
        "    t, h = np.linspace(a,b,N, retstep=1)\n",
        "    return np.sum((h*(f(t[:-1])+f(t[:-1])))/2)\n",
        "\n",
        "\n",
        "\n",
        "def f(x):\n",
        "    return x**4 - 2*x + 1"
      ]
    },
    {
      "cell_type": "code",
      "execution_count": null,
      "metadata": {},
      "outputs": [],
      "source": [
        "(SimpsonsRule(f,0,2,10**4)-4.4)/(TrapezoidalRule(f,0,2,10**4)-4.4)"
      ]
    },
    {
      "cell_type": "markdown",
      "metadata": {},
      "source": [
        "Ex. 3"
      ]
    },
    {
      "cell_type": "code",
      "execution_count": null,
      "metadata": {},
      "outputs": [],
      "source": [
        "def E(x):\n",
        "    return np.exp(-x**2)\n",
        "\n",
        "def plterf(min,max,N = 1000):\n",
        "    fig, ax = plt.subplots()\n",
        "    t = np.linspace(min,max,N)\n",
        "    Y = SimpsonsRule(E,0,t,100)\n",
        "    ax.plot(t,Y)\n",
        "    ax.grid()\n",
        "    plt.show()"
      ]
    },
    {
      "cell_type": "code",
      "execution_count": null,
      "metadata": {},
      "outputs": [],
      "source": [
        "SimpsonsRule(E,0,3,30)"
      ]
    },
    {
      "cell_type": "code",
      "execution_count": null,
      "metadata": {},
      "outputs": [],
      "source": [
        "plterf(-3,3)"
      ]
    },
    {
      "cell_type": "markdown",
      "metadata": {},
      "source": [
        "Ex. 4.1"
      ]
    },
    {
      "cell_type": "code",
      "execution_count": null,
      "metadata": {},
      "outputs": [],
      "source": [
        "def J(m,x,N):\n",
        "    Jintegrand = lambda t: np.cos(m*t-x*np.sin(t))\n",
        "    return SimpsonsRule(Jintegrand,np.zeros((x.shape)),np.pi,100)/np.pi\n",
        "\n",
        "def pltJ(m_min = 0,m_max = 2,x_min = 0,x_max = 20,N = 1000):\n",
        "    fig, ax = plt.subplots()\n",
        "    X = np.linspace(x_min,x_max,N)\n",
        "    for i in range(m_min,m_max+1):\n",
        "        Y = J(i,X,N)\n",
        "        ax.plot(X,Y,label = \"$J_{%i}$\" % i)\n",
        "    ax.legend(fontsize=14)\n",
        "    plt.show()\n",
        "        \n"
      ]
    },
    {
      "cell_type": "code",
      "execution_count": null,
      "metadata": {},
      "outputs": [],
      "source": [
        "pltJ()"
      ]
    },
    {
      "cell_type": "markdown",
      "metadata": {},
      "source": [
        "Ex. 4.2"
      ]
    },
    {
      "cell_type": "code",
      "execution_count": null,
      "metadata": {},
      "outputs": [],
      "source": [
        "def LightIntensity(l,r,N):\n",
        "    T = np.linspace(0, 2*np.pi,N)\n",
        "    R = np.linspace(0, r, N)\n",
        "    x = np.outer(R, np.cos(T))\n",
        "    y = np.outer(R, np.sin(T))\n",
        "    KR = 2*np.pi*np.sqrt(x**2+y**2)/l\n",
        "    I = (J(1,KR,N)/KR)**2\n",
        "    I[0,:] = np.zeros(N)+0.5 #lim (J1(x)/x)=1/2\n",
        "    \n",
        "    T, R = np.meshgrid(T,R)\n",
        "\n",
        "    fig = plt.figure() \n",
        "    ax = fig.add_subplot(projection = \"polar\")\n",
        "    dens = ax.pcolormesh(T,R,I,vmax = 0.01,cmap='gray')\n",
        "    plt.colorbar(dens)\n",
        "    ax.grid(False)\n",
        "    ax.axis(False)\n",
        "    plt.show()"
      ]
    },
    {
      "cell_type": "code",
      "execution_count": null,
      "metadata": {},
      "outputs": [],
      "source": [
        "LightIntensity(500e-9,1e-6,1000)"
      ]
    },
    {
      "cell_type": "markdown",
      "metadata": {},
      "source": [
        "Ex. 6 + 7"
      ]
    },
    {
      "cell_type": "code",
      "execution_count": 3,
      "metadata": {},
      "outputs": [],
      "source": [
        "def TrapezoidalAdaptative(a,b,emin,f):\n",
        "    e = np.inf\n",
        "    h = (b-a)\n",
        "    I0 = ((f(a)+f(b))*h)/2\n",
        "    n = 1\n",
        "    print(\"n\\tI\\te\")\n",
        "    print(n,\"\\t\",I0,\"\\t---\")\n",
        "    while e > emin/10:\n",
        "        N = 2*n+1\n",
        "        t,h = np.linspace(a,b,N,retstep=1)\n",
        "        I = I0 / 2 + np.sum(f(t[1:-1:2]))*h\n",
        "        e = abs(I-I0)/3\n",
        "        n *= 2\n",
        "        print(n,\"\\t\",I,\"\\t\",e)\n",
        "        I0 = I\n",
        "    \n",
        "    return I\n",
        "\n",
        "def RombergTable(a,b,emin,f):\n",
        "    e = np.inf\n",
        "    h = (b-a)\n",
        "    N = int(np.power(h/emin,1/4))\n",
        "    R = np.zeros((N,N))\n",
        "    R[0, 0] = ((f(a)+f(b))*h)/2\n",
        "    n = 1\n",
        "    i = 1\n",
        "    print(\"1  | \",R[0,0])\n",
        "    while e > emin/10:\n",
        "        Points = 2*n+1\n",
        "        t,h = np.linspace(a,b,Points,retstep=1)\n",
        "        R[i, 0] = R[i-1, 0] / 2 + np.sum(f(t[1:-1:2]))*h\n",
        "        print(i+1,\" | \",R[i,0],\"\\t\",end=\"\")\n",
        "        for m in range(i):\n",
        "            R[i, m+1] = R[i, m] + (R[i, m]-R[i-1, m])/(4**(m+1) - 1)\n",
        "            print(R[i,m+1],\"\\t\",end=\"\")\n",
        "        print()\n",
        "        e = abs(R[i, i-1]-R[i-1, i-1])/(4**i-1)\n",
        "        i += 1\n",
        "        n *= 2\n",
        "\n",
        "\n",
        "\n",
        "def SineSq(x):\n",
        "    return np.sin(np.sqrt(100*x))**2\n",
        "\n"
      ]
    },
    {
      "cell_type": "code",
      "execution_count": 13,
      "metadata": {},
      "outputs": [
        {
          "name": "stdout",
          "output_type": "stream",
          "text": [
            "n\tI\te\n",
            "1 \t 0.147979484546652 \t---\n",
            "2 \t 0.3252319078064746 \t 0.05908414108660753\n",
            "4 \t 0.5122828507233315 \t 0.06235031430561896\n",
            "8 \t 0.4029974484782483 \t 0.03642846741502772\n",
            "16 \t 0.430103369294747 \t 0.009035306938832902\n",
            "32 \t 0.44841466578746997 \t 0.0061037654975743165\n",
            "64 \t 0.4539129312153759 \t 0.0018327551426353117\n",
            "128 \t 0.45534850437280217 \t 0.000478524385808754\n",
            "256 \t 0.4557112664532411 \t 0.00012092069347964991\n",
            "512 \t 0.45580219965166413 \t 3.0311066141005167e-05\n",
            "1024 \t 0.4558249481324202 \t 7.58282691868765e-06\n",
            "2048 \t 0.4558306362016461 \t 1.8960230753021594e-06\n",
            "4096 \t 0.4558320582782708 \t 4.7402554155991555e-07\n",
            "8192 \t 0.4558324138011344 \t 1.1850762119773132e-07\n",
            "16384 \t 0.455832502682082 \t 2.962698253394791e-08\n"
          ]
        },
        {
          "data": {
            "text/plain": [
              "0.455832502682082"
            ]
          },
          "execution_count": 13,
          "metadata": {},
          "output_type": "execute_result"
        }
      ],
      "source": [
        "TrapezoidalAdaptative(0,1,10**-6,SineSq)"
      ]
    },
    {
      "cell_type": "code",
      "execution_count": 14,
      "metadata": {},
      "outputs": [
        {
          "name": "stdout",
          "output_type": "stream",
          "text": [
            "1  |  0.147979484546652\n",
            "2  |  0.3252319078064746 \t0.38431604889308213 \t\n",
            "3  |  0.5122828507233315 \t0.5746331650289505 \t0.5873209727713417 \t\n",
            "4  |  0.4029974484782483 \t0.3665689810632206 \t0.35269803546550527 \t0.34897386185747614 \t\n",
            "5  |  0.430103369294747 \t0.43913867623357994 \t0.4439766559116039 \t0.44542552290281184 \t0.4458037647108328 \t\n",
            "6  |  0.44841466578746997 \t0.45451843128504427 \t0.4555437482884752 \t0.45572735292937794 \t0.45576775226281546 \t0.455777492231097 \t\n",
            "7  |  0.4539129312153759 \t0.4557456863580112 \t0.4558275033628757 \t0.4558320074116757 \t0.45583241782141015 \t0.45583248103309987 \t0.45583249446137875 \t\n"
          ]
        }
      ],
      "source": [
        "RombergTable(0,1,10**-6,SineSq)"
      ]
    },
    {
      "cell_type": "code",
      "execution_count": null,
      "metadata": {},
      "outputs": [],
      "source": [
        "%timeit -n 10 -r 20 TrapezoidalAdaptative(0,1,10**-6,SineSq)"
      ]
    },
    {
      "cell_type": "code",
      "execution_count": null,
      "metadata": {},
      "outputs": [],
      "source": [
        "%timeit -n 10 -r 20 RombergTable(0,1,10**-6,SineSq)"
      ]
    },
    {
      "cell_type": "markdown",
      "metadata": {},
      "source": [
        "Ex. 8"
      ]
    },
    {
      "cell_type": "code",
      "execution_count": 11,
      "metadata": {},
      "outputs": [],
      "source": [
        "def SimpsonAdaptative(a,b,emin,f):\n",
        "    e = np.inf\n",
        "    S0 = (f(a)+f(b))/3\n",
        "    T0 = 2*f((a+b)/2)/3\n",
        "    I0 = (a-b)*(S0+2*T0)/2\n",
        "    n = 2\n",
        "    print(\"n\\tI\\te\")\n",
        "    print(n,\"\\t\",I0,\"\\t---\")\n",
        "    while e > emin:\n",
        "        N = 2*n+1\n",
        "\n",
        "        S = S0+T0\n",
        "        S0 = S\n",
        "        \n",
        "        t, h = np.linspace(a,b,N,retstep=1)\n",
        "        T = 2*np.sum(f(t[1:-1:2]))/3\n",
        "        T0 = T\n",
        "\n",
        "        I = h*(S+2*T)\n",
        "        e = abs(I-I0)/15\n",
        "\n",
        "        I0 = I\n",
        "        n *= 2\n",
        "        print(n,\"\\t\",I,\"\\t\",e)\n",
        "    return I\n",
        "\n",
        "    "
      ]
    },
    {
      "cell_type": "code",
      "execution_count": 12,
      "metadata": {},
      "outputs": [
        {
          "name": "stdout",
          "output_type": "stream",
          "text": [
            "n\tI\te\n",
            "2 \t -0.38431604889308213 \t---\n",
            "4 \t 0.5746331650289503 \t 0.06392994759480217\n",
            "8 \t 0.36656898106322056 \t 0.013870945597715319\n",
            "16 \t 0.4391386762335798 \t 0.004837979678023951\n",
            "32 \t 0.45451843128504427 \t 0.0010253170034309625\n",
            "64 \t 0.45574568635801116 \t 8.181700486445954e-05\n",
            "128 \t 0.4558270287586109 \t 5.422826706650655e-06\n",
            "256 \t 0.4558321871467207 \t 3.4389254065144335e-07\n"
          ]
        },
        {
          "data": {
            "text/plain": [
              "0.4558321871467207"
            ]
          },
          "execution_count": 12,
          "metadata": {},
          "output_type": "execute_result"
        }
      ],
      "source": [
        "SimpsonAdaptative(0,1,10**-6,SineSq)"
      ]
    },
    {
      "cell_type": "markdown",
      "metadata": {},
      "source": [
        "Ex. 9"
      ]
    },
    {
      "cell_type": "code",
      "execution_count": 41,
      "metadata": {},
      "outputs": [],
      "source": [
        "def GaussianQuadrature(a,b,N,f):\n",
        "    x, w = gaussxw(N)\n",
        "    X = np.outer((b-a),x)/2 + np.outer((b+a),np.ones(x.shape))/2\n",
        "    W = np.outer((b-a),w)/2\n",
        "    return np.diagonal(np.inner(f(X),W))\n",
        "\n",
        "def cv(T,p=6.022e28,V=1000e-6,N=50):\n",
        "    T = np.array(T)\n",
        "    kB = 1.38e-23\n",
        "    TD = 428\n",
        "    Integrand = lambda x : x**4*np.exp(x)/(np.exp(x)-1)**2\n",
        "    return 9*V*p*kB*(T/TD)**3*GaussianQuadrature(np.zeros(T.shape),TD/T,N,Integrand)\n",
        "\n",
        "\n",
        "def plotfunc(a,b,N,f):\n",
        "    X = np.linspace(a,b,N)\n",
        "    Y = f(X)\n",
        "    plt.plot(X,Y)"
      ]
    },
    {
      "cell_type": "code",
      "execution_count": 16,
      "metadata": {},
      "outputs": [
        {
          "data": {
            "text/plain": [
              "array([2404.10583227])"
            ]
          },
          "execution_count": 16,
          "metadata": {},
          "output_type": "execute_result"
        }
      ],
      "source": [
        "cv(500)"
      ]
    },
    {
      "cell_type": "code",
      "execution_count": 17,
      "metadata": {},
      "outputs": [
        {
          "data": {
            "image/png": "[encoded data removed]",
            "text/plain": [
              "<Figure size 640x480 with 1 Axes>"
            ]
          },
          "metadata": {},
          "output_type": "display_data"
        }
      ],
      "source": [
        "plotfunc(5,500,1000,cv)"
      ]
    },
    {
      "cell_type": "markdown",
      "metadata": {},
      "source": [
        "## Teste de velocidade para o ciclo for vs GaussianQuadrature alterada"
      ]
    },
    {
      "cell_type": "code",
      "execution_count": 13,
      "metadata": {},
      "outputs": [],
      "source": [
        "def GaussQuadNorm(a,b,N,f):\n",
        "    x, w = gaussxw(N)\n",
        "    X = (b-a)*x/2 + (b+a)/2\n",
        "    W = (b-a)*w/2\n",
        "    return np.inner(f(X),W)\n",
        "\n",
        "def cvplot(T0,T,P,p=6.022e28,V=1000e-6,N=50):\n",
        "    kB = 1.38e-23\n",
        "    TD = 428\n",
        "    Integrand = lambda x : x**4*np.exp(x)/(np.exp(x)-1)**2\n",
        "    X = np.linspace(T0,T,P)\n",
        "    Y = np.zeros((P))\n",
        "    for i in range(P):\n",
        "        Y[i] = 9*V*p*kB*(X[i]/TD)**3*GaussQuadNorm(0,TD/X[i],N,Integrand)\n",
        "    plt.plot(X,Y)"
      ]
    },
    {
      "cell_type": "code",
      "execution_count": 19,
      "metadata": {},
      "outputs": [
        {
          "name": "stdout",
          "output_type": "stream",
          "text": [
            "6.55 ms ± 480 µs per loop (mean ± std. dev. of 20 runs, 10 loops each)\n"
          ]
        },
        {
          "data": {
            "image/png": "[encoded data removed]",
            "text/plain": [
              "<Figure size 640x480 with 1 Axes>"
            ]
          },
          "metadata": {},
          "output_type": "display_data"
        }
      ],
      "source": [
        "%timeit -n 10 -r 20 plotfunc(5,500,1000,cv)"
      ]
    },
    {
      "cell_type": "code",
      "execution_count": 18,
      "metadata": {},
      "outputs": [
        {
          "name": "stdout",
          "output_type": "stream",
          "text": [
            "1.67 s ± 34.8 ms per loop (mean ± std. dev. of 20 runs, 10 loops each)\n"
          ]
        },
        {
          "data": {
            "image/png": "[encoded data removed]",
            "text/plain": [
              "<Figure size 640x480 with 1 Axes>"
            ]
          },
          "metadata": {},
          "output_type": "display_data"
        }
      ],
      "source": [
        "%timeit -n 10 -r 20 cvplot(5,500,1000)"
      ]
    },
    {
      "cell_type": "markdown",
      "metadata": {},
      "source": [
        "# Folha 3 (cont.)"
      ]
    },
    {
      "cell_type": "markdown",
      "metadata": {},
      "source": [
        "Ex. 10"
      ]
    },
    {
      "cell_type": "markdown",
      "metadata": {},
      "source": [
        "$$\\begin{align}\n",
        "E = \\frac{1}{2} m \\left(\\frac{\\mathrm d x}{\\mathrm d t}\\right)^{2} + V(x)\\\\\n",
        "\\sqrt{\\left(V(a)-V(x)\\right)\\frac{2}{m}} = \\frac{\\mathrm d x}{\\mathrm d t}\\\\\n",
        "\\mathrm d t =\\sqrt{\\frac{m}{2 \\left(V(a)-V(x)\\right)}} \\mathrm d x\\\\\n",
        "\\int_0^\\frac{T}{4}\\,\\mathrm d t = \\int_0^a \\sqrt{\\frac{m}{2 \\left(V(a)-V(x)\\right)}}\\, \\mathrm d x\\\\\n",
        "\\frac{T}{4} = \\sqrt{\\frac{m}{2}} \\int_0^a \\frac{\\mathrm d x}{\\sqrt{V(a)-V(x)}}\\\\\n",
        "T =  \\sqrt{8 m} \\int_0^a \\frac{\\mathrm d x}{\\sqrt{V(a)-V(x)}}\n",
        "\\end{align}$$"
      ]
    },
    {
      "cell_type": "code",
      "execution_count": 253,
      "metadata": {},
      "outputs": [],
      "source": [
        "V = lambda x: x**4\n",
        "def OscilatorPeriod(m,a,N,V):\n",
        "    a = np.array(a)\n",
        "    m = np.ones(a.shape)*m\n",
        "    Va = np.resize(V(a),(N,a.size)).T\n",
        "    return np.sqrt(8*m)*GaussianQuadrature(np.zeros(a.shape),a,N,lambda x: 1/np.sqrt(Va-V(x)))\n",
        "\n"
      ]
    },
    {
      "cell_type": "code",
      "execution_count": 256,
      "metadata": {},
      "outputs": [
        {
          "data": {
            "text/plain": [
              "array([1.82404704])"
            ]
          },
          "execution_count": 256,
          "metadata": {},
          "output_type": "execute_result"
        }
      ],
      "source": [
        "OscilatorPeriod(1,2,20,V)"
      ]
    },
    {
      "cell_type": "code",
      "execution_count": 255,
      "metadata": {},
      "outputs": [
        {
          "name": "stderr",
          "output_type": "stream",
          "text": [
            "C:\\Users\\up202207694\\AppData\\Local\\Temp\\2\\ipykernel_16148\\1913091363.py:6: RuntimeWarning: divide by zero encountered in divide\n",
            "  return np.sqrt(8*m)*GaussianQuadrature(np.zeros(a.shape),a,N,lambda x: 1/np.sqrt(Va-V(x)))\n"
          ]
        },
        {
          "data": {
            "image/png": "[encoded data removed]",
            "text/plain": [
              "<Figure size 640x480 with 1 Axes>"
            ]
          },
          "metadata": {},
          "output_type": "display_data"
        }
      ],
      "source": [
        "plotfunc(0,2,100,lambda a: OscilatorPeriod(1,a,20,V))"
      ]
    },
    {
      "cell_type": "markdown",
      "metadata": {},
      "source": [
        "Ex.11"
      ]
    },
    {
      "cell_type": "code",
      "execution_count": 261,
      "metadata": {},
      "outputs": [],
      "source": [
        "def BlockedWave(x,z,l,N=50):\n",
        "    u = x*np.sqrt(2/(l*z))\n",
        "    Cint = lambda t: np.cos(np.pi*t**2/2)\n",
        "    Sint = lambda t: np.sin(np.pi*t**2/2)\n",
        "    C = GaussianQuadrature(0,u,N,Cint)\n",
        "    S = GaussianQuadrature(0,u,N,Sint)\n",
        "    I = ((2*C+1)**2+(2*S+1)**2)/8\n",
        "    return I"
      ]
    },
    {
      "cell_type": "code",
      "execution_count": 273,
      "metadata": {},
      "outputs": [
        {
          "data": {
            "text/plain": [
              "array([1.143916])"
            ]
          },
          "execution_count": 273,
          "metadata": {},
          "output_type": "execute_result"
        }
      ],
      "source": [
        "BlockedWave(3,3,1,50)"
      ]
    },
    {
      "cell_type": "code",
      "execution_count": 272,
      "metadata": {},
      "outputs": [
        {
          "data": {
            "image/png": "[encoded data removed]",
            "text/plain": [
              "<Figure size 640x480 with 1 Axes>"
            ]
          },
          "metadata": {},
          "output_type": "display_data"
        }
      ],
      "source": [
        "plotfunc(-5,5,1000,lambda x: BlockedWave(x,3,1))"
      ]
    },
    {
      "cell_type": "markdown",
      "metadata": {},
      "source": [
        "Ex. 12"
      ]
    },
    {
      "cell_type": "code",
      "execution_count": 38,
      "metadata": {},
      "outputs": [],
      "source": [
        "def Derivative(a,h,f):\n",
        "    return (f(a+h)-f(a-h))/(2*h)\n"
      ]
    },
    {
      "cell_type": "code",
      "execution_count": 53,
      "metadata": {},
      "outputs": [
        {
          "name": "stdout",
          "output_type": "stream",
          "text": [
            "0.9999999998677732\n"
          ]
        }
      ],
      "source": [
        "print(Derivative(0,10**-5,lambda x: 1+np.tanh(2*x)/2))"
      ]
    },
    {
      "cell_type": "code",
      "execution_count": 54,
      "metadata": {},
      "outputs": [
        {
          "data": {
            "image/png": "[encoded data removed]",
            "text/plain": [
              "<Figure size 640x480 with 1 Axes>"
            ]
          },
          "metadata": {},
          "output_type": "display_data"
        }
      ],
      "source": [
        "plotfunc(-2,2,100,lambda x: 1+np.tanh(2*x)/2)\n",
        "plotfunc(-2,2,100,lambda x: Derivative(x,0.0001,lambda y: 1+np.tanh(2*y)/2))"
      ]
    },
    {
      "cell_type": "code",
      "execution_count": null,
      "metadata": {},
      "outputs": [],
      "source": []
    }
  ],
  "metadata": {
    "kernelspec": {
      "display_name": "Python 3",
      "language": "python",
      "name": "python3"
    },
    "language_info": {
      "codemirror_mode": {
        "name": "ipython",
        "version": 3
      },
      "file_extension": ".py",
      "mimetype": "text/x-python",
      "name": "python",
      "nbconvert_exporter": "python",
      "pygments_lexer": "ipython3",
      "version": "3.11.1"
    }
  },
  "nbformat": 4,
  "nbformat_minor": 4
}
